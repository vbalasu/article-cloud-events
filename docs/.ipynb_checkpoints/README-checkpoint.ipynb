{
 "cells": [
  {
   "cell_type": "markdown",
   "metadata": {},
   "source": [
    "# CloudEvents: The Beating Heart of Serverless and Multicloud"
   ]
  },
  {
   "cell_type": "markdown",
   "metadata": {},
   "source": [
    "DIAGRAM GOES HERE"
   ]
  },
  {
   "cell_type": "markdown",
   "metadata": {},
   "source": [
    "The system consists of the following steps:"
   ]
  },
  {
   "cell_type": "markdown",
   "metadata": {},
   "source": [
    "1. The user captures a picture of an object\n",
    "2. The user visits a web page\n",
    "3. The user uploads an image\n",
    "4. The user's browser sends the image to a backend application in AWS Lambda<sup>*</sup>\n",
    "5. The Lambda function stores the image in S3\n",
    "6. The Lambda function generates a presigned URL for the image\n",
    "7. The Lambda function sends the image URL to a Google Pub/Sub topic<sup>*</sup>\n",
    "8. A Google Cloud Function processes the Pub/Sub message and passes the URL to Google Vision API\n",
    "9. The Vision API interprets the image and returns metadata\n",
    "10. The Google Cloud Function sends the image metadata to Amazon SNS<sup>*</sup>\n",
    "11. A Lambda function sends the image metadata to the user's browser<sup>*</sup>\n",
    "12. The browser reads the message and displays the result to the user"
   ]
  },
  {
   "cell_type": "markdown",
   "metadata": {},
   "source": [
    "<p style=\"font-size: smaller;\">[*]: This is a CloudEvent message</p>"
   ]
  },
  {
   "cell_type": "markdown",
   "metadata": {},
   "source": [
    "#### Step 1: User captures a picture of an object\n",
    "\n"
   ]
  },
  {
   "cell_type": "markdown",
   "metadata": {},
   "source": [
    "<table align=\"left\">\n",
    "<tr><td>Actor</td><td>User</td></tr>\n",
    "<tr><td>Action</td><td>Using a smartphone, user captures images of objects that he/she is curious about</td></tr>\n",
    "<tr><td>Input</td><td>Real world</td></tr>\n",
    "<tr><td>Output</td><td>JPEG image</td></tr>\n",
    "<tr><td>Runtime</td><td>Smartphone camera</td></tr>\n",
    "</table>"
   ]
  },
  {
   "cell_type": "markdown",
   "metadata": {},
   "source": [
    "<img width=\"700px\" src=\"media/article-cloud-events.svg\">"
   ]
  },
  {
   "cell_type": "markdown",
   "metadata": {},
   "source": [
    "<img src=\"media/apple.jpg\" width=\"200px\"> <img src=\"media/orange.jpg\" width=\"200px\">"
   ]
  },
  {
   "cell_type": "markdown",
   "metadata": {},
   "source": [
    "#### Step 2: User visits a web page"
   ]
  },
  {
   "cell_type": "markdown",
   "metadata": {},
   "source": [
    "<table align=\"left\">\n",
    "<tr><td>Actor</td><td>User</td></tr>\n",
    "<tr><td>Action</td><td>User visits a web page</td></tr>\n",
    "<tr><td>Input</td><td><a href=\"https://3namtoz6z6.execute-api.us-east-1.amazonaws.com/api/\">URL</a></td></tr>\n",
    "<tr><td>Output</td><td>Page that allows user to upload images, served by AWS Lambda</td></tr>\n",
    "<tr><td>Runtime</td><td>Web browser</td></tr>    \n",
    "</table>"
   ]
  },
  {
   "cell_type": "markdown",
   "metadata": {},
   "source": []
  }
 ],
 "metadata": {
  "kernelspec": {
   "display_name": "article-cloud-events",
   "language": "python",
   "name": "article-cloud-events"
  },
  "language_info": {
   "codemirror_mode": {
    "name": "ipython",
    "version": 3
   },
   "file_extension": ".py",
   "mimetype": "text/x-python",
   "name": "python",
   "nbconvert_exporter": "python",
   "pygments_lexer": "ipython3",
   "version": "3.8.3"
  }
 },
 "nbformat": 4,
 "nbformat_minor": 4
}
